{
  "cells": [
    {
      "attachments": {},
      "cell_type": "markdown",
      "metadata": {
        "id": "XHtaPysVSNZN"
      },
      "source": [
        "# Step 1 - Install the required dependencies and make sure the python version is 3.10 and above"
      ]
    },
    {
      "cell_type": "code",
      "execution_count": 1,
      "metadata": {
        "id": "APS6D3eiSAR_"
      },
      "outputs": [
        {
          "name": "stdout",
          "output_type": "stream",
          "text": [
            "Collecting zeno-client\n",
            "  Downloading zeno_client-0.1.16-py3-none-any.whl.metadata (2.1 kB)\n",
            "Collecting arrow-json<0.10.0,>=0.9.0 (from zeno-client)\n",
            "  Downloading arrow_json-0.9.0-cp37-abi3-macosx_10_9_x86_64.macosx_11_0_arm64.macosx_10_9_universal2.whl.metadata (1.5 kB)\n",
            "Collecting outdated>=0.2.0 (from zeno-client)\n",
            "  Downloading outdated-0.2.2-py2.py3-none-any.whl (7.5 kB)\n",
            "Collecting pandas>=1.4.3 (from zeno-client)\n",
            "  Downloading pandas-2.2.0-cp310-cp310-macosx_11_0_arm64.whl.metadata (19 kB)\n",
            "Collecting pyarrow>=6.0.0 (from zeno-client)\n",
            "  Downloading pyarrow-15.0.0-cp310-cp310-macosx_11_0_arm64.whl.metadata (3.0 kB)\n",
            "Collecting pydantic>=1.0 (from zeno-client)\n",
            "  Downloading pydantic-2.6.1-py3-none-any.whl.metadata (83 kB)\n",
            "\u001b[2K     \u001b[90m━━━━━━━━━━━━━━━━━━━━━━━━━━━━━━━━━━━━━━━━\u001b[0m \u001b[32m83.5/83.5 kB\u001b[0m \u001b[31m2.2 MB/s\u001b[0m eta \u001b[36m0:00:00\u001b[0m\n",
            "\u001b[?25hCollecting requests>=2.20.0 (from zeno-client)\n",
            "  Using cached requests-2.31.0-py3-none-any.whl.metadata (4.6 kB)\n",
            "Collecting tqdm>=4.1.0 (from zeno-client)\n",
            "  Downloading tqdm-4.66.1-py3-none-any.whl.metadata (57 kB)\n",
            "\u001b[2K     \u001b[90m━━━━━━━━━━━━━━━━━━━━━━━━━━━━━━━━━━━━━━━━\u001b[0m \u001b[32m57.6/57.6 kB\u001b[0m \u001b[31m4.3 MB/s\u001b[0m eta \u001b[36m0:00:00\u001b[0m\n",
            "\u001b[?25hRequirement already satisfied: setuptools>=44 in ./.conda/lib/python3.10/site-packages (from outdated>=0.2.0->zeno-client) (68.2.2)\n",
            "Collecting littleutils (from outdated>=0.2.0->zeno-client)\n",
            "  Using cached littleutils-0.2.2-py3-none-any.whl\n",
            "Collecting numpy<2,>=1.22.4 (from pandas>=1.4.3->zeno-client)\n",
            "  Downloading numpy-1.26.4-cp310-cp310-macosx_11_0_arm64.whl.metadata (61 kB)\n",
            "\u001b[2K     \u001b[90m━━━━━━━━━━━━━━━━━━━━━━━━━━━━━━━━━━━━━━━━\u001b[0m \u001b[32m61.1/61.1 kB\u001b[0m \u001b[31m4.8 MB/s\u001b[0m eta \u001b[36m0:00:00\u001b[0m\n",
            "\u001b[?25hRequirement already satisfied: python-dateutil>=2.8.2 in ./.conda/lib/python3.10/site-packages (from pandas>=1.4.3->zeno-client) (2.8.2)\n",
            "Collecting pytz>=2020.1 (from pandas>=1.4.3->zeno-client)\n",
            "  Downloading pytz-2024.1-py2.py3-none-any.whl.metadata (22 kB)\n",
            "Collecting tzdata>=2022.7 (from pandas>=1.4.3->zeno-client)\n",
            "  Downloading tzdata-2023.4-py2.py3-none-any.whl.metadata (1.4 kB)\n",
            "Collecting annotated-types>=0.4.0 (from pydantic>=1.0->zeno-client)\n",
            "  Downloading annotated_types-0.6.0-py3-none-any.whl.metadata (12 kB)\n",
            "Collecting pydantic-core==2.16.2 (from pydantic>=1.0->zeno-client)\n",
            "  Downloading pydantic_core-2.16.2-cp310-cp310-macosx_11_0_arm64.whl.metadata (6.5 kB)\n",
            "Collecting typing-extensions>=4.6.1 (from pydantic>=1.0->zeno-client)\n",
            "  Using cached typing_extensions-4.9.0-py3-none-any.whl.metadata (3.0 kB)\n",
            "Collecting charset-normalizer<4,>=2 (from requests>=2.20.0->zeno-client)\n",
            "  Downloading charset_normalizer-3.3.2-cp310-cp310-macosx_11_0_arm64.whl.metadata (33 kB)\n",
            "Collecting idna<4,>=2.5 (from requests>=2.20.0->zeno-client)\n",
            "  Using cached idna-3.6-py3-none-any.whl.metadata (9.9 kB)\n",
            "Collecting urllib3<3,>=1.21.1 (from requests>=2.20.0->zeno-client)\n",
            "  Downloading urllib3-2.2.0-py3-none-any.whl.metadata (6.4 kB)\n",
            "Collecting certifi>=2017.4.17 (from requests>=2.20.0->zeno-client)\n",
            "  Downloading certifi-2024.2.2-py3-none-any.whl.metadata (2.2 kB)\n",
            "Requirement already satisfied: six>=1.5 in ./.conda/lib/python3.10/site-packages (from python-dateutil>=2.8.2->pandas>=1.4.3->zeno-client) (1.16.0)\n",
            "Downloading zeno_client-0.1.16-py3-none-any.whl (7.3 kB)\n",
            "Downloading arrow_json-0.9.0-cp37-abi3-macosx_10_9_x86_64.macosx_11_0_arm64.macosx_10_9_universal2.whl (2.5 MB)\n",
            "\u001b[2K   \u001b[90m━━━━━━━━━━━━━━━━━━━━━━━━━━━━━━━━━━━━━━━━\u001b[0m \u001b[32m2.5/2.5 MB\u001b[0m \u001b[31m15.7 MB/s\u001b[0m eta \u001b[36m0:00:00\u001b[0m00:01\u001b[0m00:01\u001b[0m\n",
            "\u001b[?25hDownloading pandas-2.2.0-cp310-cp310-macosx_11_0_arm64.whl (11.8 MB)\n",
            "\u001b[2K   \u001b[90m━━━━━━━━━━━━━━━━━━━━━━━━━━━━━━━━━━━━━━━━\u001b[0m \u001b[32m11.8/11.8 MB\u001b[0m \u001b[31m32.9 MB/s\u001b[0m eta \u001b[36m0:00:00\u001b[0m00:01\u001b[0m00:01\u001b[0m\n",
            "\u001b[?25hDownloading pyarrow-15.0.0-cp310-cp310-macosx_11_0_arm64.whl (24.2 MB)\n",
            "\u001b[2K   \u001b[90m━━━━━━━━━━━━━━━━━━━━━━━━━━━━━━━━━━━━━━━━\u001b[0m \u001b[32m24.2/24.2 MB\u001b[0m \u001b[31m38.5 MB/s\u001b[0m eta \u001b[36m0:00:00\u001b[0m00:01\u001b[0m00:01\u001b[0m\n",
            "\u001b[?25hDownloading pydantic-2.6.1-py3-none-any.whl (394 kB)\n",
            "\u001b[2K   \u001b[90m━━━━━━━━━━━━━━━━━━━━━━━━━━━━━━━━━━━━━━━━\u001b[0m \u001b[32m394.8/394.8 kB\u001b[0m \u001b[31m32.1 MB/s\u001b[0m eta \u001b[36m0:00:00\u001b[0m\n",
            "\u001b[?25hDownloading pydantic_core-2.16.2-cp310-cp310-macosx_11_0_arm64.whl (1.7 MB)\n",
            "\u001b[2K   \u001b[90m━━━━━━━━━━━━━━━━━━━━━━━━━━━━━━━━━━━━━━━━\u001b[0m \u001b[32m1.7/1.7 MB\u001b[0m \u001b[31m30.5 MB/s\u001b[0m eta \u001b[36m0:00:00\u001b[0ma \u001b[36m0:00:01\u001b[0m\n",
            "\u001b[?25hUsing cached requests-2.31.0-py3-none-any.whl (62 kB)\n",
            "Downloading tqdm-4.66.1-py3-none-any.whl (78 kB)\n",
            "\u001b[2K   \u001b[90m━━━━━━━━━━━━━━━━━━━━━━━━━━━━━━━━━━━━━━━━\u001b[0m \u001b[32m78.3/78.3 kB\u001b[0m \u001b[31m8.8 MB/s\u001b[0m eta \u001b[36m0:00:00\u001b[0m\n",
            "\u001b[?25hDownloading annotated_types-0.6.0-py3-none-any.whl (12 kB)\n",
            "Downloading certifi-2024.2.2-py3-none-any.whl (163 kB)\n",
            "\u001b[2K   \u001b[90m━━━━━━━━━━━━━━━━━━━━━━━━━━━━━━━━━━━━━━━━\u001b[0m \u001b[32m163.8/163.8 kB\u001b[0m \u001b[31m19.9 MB/s\u001b[0m eta \u001b[36m0:00:00\u001b[0m\n",
            "\u001b[?25hDownloading charset_normalizer-3.3.2-cp310-cp310-macosx_11_0_arm64.whl (120 kB)\n",
            "\u001b[2K   \u001b[90m━━━━━━━━━━━━━━━━━━━━━━━━━━━━━━━━━━━━━━━━\u001b[0m \u001b[32m120.4/120.4 kB\u001b[0m \u001b[31m11.7 MB/s\u001b[0m eta \u001b[36m0:00:00\u001b[0m\n",
            "\u001b[?25hUsing cached idna-3.6-py3-none-any.whl (61 kB)\n",
            "Downloading numpy-1.26.4-cp310-cp310-macosx_11_0_arm64.whl (14.0 MB)\n",
            "\u001b[2K   \u001b[90m━━━━━━━━━━━━━━━━━━━━━━━━━━━━━━━━━━━━━━━━\u001b[0m \u001b[32m14.0/14.0 MB\u001b[0m \u001b[31m32.1 MB/s\u001b[0m eta \u001b[36m0:00:00\u001b[0m00:01\u001b[0m00:01\u001b[0m\n",
            "\u001b[?25hDownloading pytz-2024.1-py2.py3-none-any.whl (505 kB)\n",
            "\u001b[2K   \u001b[90m━━━━━━━━━━━━━━━━━━━━━━━━━━━━━━━━━━━━━━━━\u001b[0m \u001b[32m505.5/505.5 kB\u001b[0m \u001b[31m23.4 MB/s\u001b[0m eta \u001b[36m0:00:00\u001b[0m\n",
            "\u001b[?25hUsing cached typing_extensions-4.9.0-py3-none-any.whl (32 kB)\n",
            "Downloading tzdata-2023.4-py2.py3-none-any.whl (346 kB)\n",
            "\u001b[2K   \u001b[90m━━━━━━━━━━━━━━━━━━━━━━━━━━━━━━━━━━━━━━━━\u001b[0m \u001b[32m346.6/346.6 kB\u001b[0m \u001b[31m24.0 MB/s\u001b[0m eta \u001b[36m0:00:00\u001b[0m\n",
            "\u001b[?25hDownloading urllib3-2.2.0-py3-none-any.whl (120 kB)\n",
            "\u001b[2K   \u001b[90m━━━━━━━━━━━━━━━━━━━━━━━━━━━━━━━━━━━━━━━━\u001b[0m \u001b[32m120.9/120.9 kB\u001b[0m \u001b[31m17.7 MB/s\u001b[0m eta \u001b[36m0:00:00\u001b[0m\n",
            "\u001b[?25hInstalling collected packages: pytz, littleutils, urllib3, tzdata, typing-extensions, tqdm, numpy, idna, charset-normalizer, certifi, annotated-types, requests, pydantic-core, pyarrow, pandas, pydantic, outdated, arrow-json, zeno-client\n",
            "Successfully installed annotated-types-0.6.0 arrow-json-0.9.0 certifi-2024.2.2 charset-normalizer-3.3.2 idna-3.6 littleutils-0.2.2 numpy-1.26.4 outdated-0.2.2 pandas-2.2.0 pyarrow-15.0.0 pydantic-2.6.1 pydantic-core-2.16.2 pytz-2024.1 requests-2.31.0 tqdm-4.66.1 typing-extensions-4.9.0 tzdata-2023.4 urllib3-2.2.0 zeno-client-0.1.16\n",
            "Requirement already satisfied: pip in ./.conda/lib/python3.10/site-packages (23.3.1)\n",
            "Collecting pip\n",
            "  Downloading pip-24.0-py3-none-any.whl.metadata (3.6 kB)\n",
            "Downloading pip-24.0-py3-none-any.whl (2.1 MB)\n",
            "\u001b[2K   \u001b[90m━━━━━━━━━━━━━━━━━━━━━━━━━━━━━━━━━━━━━━━━\u001b[0m \u001b[32m2.1/2.1 MB\u001b[0m \u001b[31m10.4 MB/s\u001b[0m eta \u001b[36m0:00:00\u001b[0m00:01\u001b[0m0:01\u001b[0m\n",
            "\u001b[?25hInstalling collected packages: pip\n",
            "  Attempting uninstall: pip\n",
            "    Found existing installation: pip 23.3.1\n",
            "    Uninstalling pip-23.3.1:\n",
            "      Successfully uninstalled pip-23.3.1\n",
            "Successfully installed pip-24.0\n",
            "Collecting bottleneck\n",
            "  Using cached Bottleneck-1.3.7-cp310-cp310-macosx_11_0_arm64.whl\n",
            "Requirement already satisfied: numpy in ./.conda/lib/python3.10/site-packages (from bottleneck) (1.26.4)\n",
            "Installing collected packages: bottleneck\n",
            "Successfully installed bottleneck-1.3.7\n",
            "Collecting langdetect\n",
            "  Using cached langdetect-1.0.9-py3-none-any.whl\n",
            "Requirement already satisfied: six in ./.conda/lib/python3.10/site-packages (from langdetect) (1.16.0)\n",
            "Installing collected packages: langdetect\n",
            "Successfully installed langdetect-1.0.9\n"
          ]
        }
      ],
      "source": [
        "!pip install zeno-client\n",
        "!pip install --upgrade pip\n",
        "!pip install --upgrade bottleneck\n",
        "!pip install langdetect\n"
      ]
    },
    {
      "cell_type": "code",
      "execution_count": 2,
      "metadata": {
        "colab": {
          "base_uri": "https://localhost:8080/"
        },
        "id": "CRrMiMnLV9xY",
        "outputId": "5193e819-f2cb-4032-99df-ced1ea7b4191"
      },
      "outputs": [
        {
          "name": "stdout",
          "output_type": "stream",
          "text": [
            "Python 3.10.13\n"
          ]
        }
      ],
      "source": [
        "!python --version"
      ]
    },
    {
      "cell_type": "code",
      "execution_count": 3,
      "metadata": {
        "id": "wHMa3ItBSSdu"
      },
      "outputs": [
        {
          "name": "stderr",
          "output_type": "stream",
          "text": [
            "/Users/shauryasingh/Documents/CMU/AI Engineering/cmu-mlip-zeno-lab/.conda/lib/python3.10/site-packages/tqdm/auto.py:21: TqdmWarning: IProgress not found. Please update jupyter and ipywidgets. See https://ipywidgets.readthedocs.io/en/stable/user_install.html\n",
            "  from .autonotebook import tqdm as notebook_tqdm\n"
          ]
        }
      ],
      "source": [
        "from zeno_client import ZenoClient, ZenoMetric\n",
        "import pandas as pd\n",
        "\n",
        "# Initialize a client with our API key.\n",
        "client = ZenoClient(\"zen__vi9jklp8HdOsDJpagYa2cRZIbJaNyJCakkQG7zUqXk\")\n"
      ]
    },
    {
      "attachments": {},
      "cell_type": "markdown",
      "metadata": {
        "id": "bwOPnZ1vSfWt"
      },
      "source": [
        "# Step 2 - Create a project"
      ]
    },
    {
      "cell_type": "code",
      "execution_count": 11,
      "metadata": {
        "id": "9UdBAYUsSXBH"
      },
      "outputs": [
        {
          "name": "stdout",
          "output_type": "stream",
          "text": [
            "Successfully updated project.\n",
            "Access your project at  https://hub.zenoml.com/project/bacf1e34-5621-4f65-8161-c37df68578ff/Biased%20Movies%20Analysis\n"
          ]
        }
      ],
      "source": [
        "project = client.create_project(\n",
        "    name=\"Biased Movies Analysis\",\n",
        "    view=\"text-classification\",\n",
        "    metrics=[\n",
        "        ZenoMetric(name=\"accuracy\", type=\"mean\", columns=[\"correct\"]),\n",
        "        #Uncomment the following line after implementing the function\n",
        "        ZenoMetric(name=\"avg length ratio\", type=\"mean\", columns=[\"avg_length_ratio\"]),\n",
        "    ]\n",
        ")"
      ]
    },
    {
      "attachments": {},
      "cell_type": "markdown",
      "metadata": {
        "id": "c-lh1yUhXjsd"
      },
      "source": [
        "# Step 3 - Create dataset"
      ]
    },
    {
      "cell_type": "code",
      "execution_count": 12,
      "metadata": {
        "id": "s4x_f9QqSjHT"
      },
      "outputs": [],
      "source": [
        "import pandas as pd\n",
        "from langdetect import detect\n",
        "from collections import Counter\n",
        "import random\n",
        "\n",
        "# Sample language detection function\n",
        "def detect_language(text):\n",
        "    try:\n",
        "        return detect(text)\n",
        "    except:\n",
        "        return \"Unknown\"\n",
        "\n",
        "# Create a Pandas DataFrame for the biased dataset of movies\n",
        "df = pd.DataFrame(\n",
        "    {\n",
        "        \"id\": range(1, 11),  # Using only 10 instances for demonstration\n",
        "        \"text\": [\n",
        "            \"I love this movie!\",\n",
        "            \"¡Odio esta película!\",\n",
        "            \"Ce film est ok.\",\n",
        "            \"The acting was great!\",\n",
        "            \"The plot was confusing.\",\n",
        "            \"I really enjoyed it!\",\n",
        "            \"Worst movie ever!\",\n",
        "            \"Not bad, but could be better.\",\n",
        "            \"A masterpiece!\",\n",
        "            \"I didn't like it.\",\n",
        "        ],\n",
        "        \"genre\": [\"action\", \"drama\", \"comedy\", \"action\", \"drama\", \"action\", \"drama\", \"comedy\", \"action\", \"drama\"],\n",
        "        \"year\": [random.choice([2020, 2021, 2022]) for _ in range(10)],  # Randomly select year\n",
        "        \"label\": [\"positive\", \"negative\", \"neutral\", \"positive\", \"negative\", \"positive\", \"negative\", \"neutral\", \"positive\", \"negative\"],\n",
        "    }\n",
        ")\n",
        "\n",
        "# Introduce biases in genre\n",
        "biased_genre = [\"action\", \"action\", \"drama\", \"drama\", \"comedy\", \"comedy\", \"comedy\", \"comedy\", \"drama\", \"drama\"]\n",
        "df[\"biased_genre\"] = biased_genre\n",
        "\n",
        "# Introduce biases in year\n",
        "biased_year = [2020, 2020, 2020, 2021, 2021, 2021, 2022, 2022, 2022, 2022]\n",
        "df[\"biased_year\"] = biased_year\n",
        "\n",
        "# Add language detection to create a new column\n",
        "df[\"detected_language\"] = df[\"text\"].apply(detect_language)\n",
        "\n",
        "# Add additional columns for analysis\n",
        "df[\"input_length\"] = df[\"text\"].str.len()\n",
        "\n",
        "#Uncomment the following line\n",
        "df[\"avg_length_ratio\"] = df[\"input_length\"] / (df[\"input_length\"].mean())\n",
        "\n"
      ]
    },
    {
      "attachments": {},
      "cell_type": "markdown",
      "metadata": {
        "id": "9MRmyxrQX0-v"
      },
      "source": [
        "# Step 4 - Upload the Base Dataset\n"
      ]
    },
    {
      "cell_type": "code",
      "execution_count": 13,
      "metadata": {
        "id": "gX5H6b9mXxyW"
      },
      "outputs": [
        {
          "name": "stderr",
          "output_type": "stream",
          "text": [
            "/Users/shauryasingh/Documents/CMU/AI Engineering/cmu-mlip-zeno-lab/.conda/lib/python3.10/site-packages/zeno_client/util.py:25: FutureWarning: Setting an item of incompatible dtype is deprecated and will raise in a future error of pandas. Value '['1' '2' '3' '4' '5' '6' '7' '8' '9' '10']' has dtype incompatible with int64, please explicitly cast to a compatible dtype first.\n",
            "  df.loc[:, id_column] = df[id_column].astype(str)\n",
            "100%|██████████| 1/1 [00:00<00:00,  2.22it/s]"
          ]
        },
        {
          "name": "stdout",
          "output_type": "stream",
          "text": [
            "Successfully uploaded data\n"
          ]
        },
        {
          "name": "stderr",
          "output_type": "stream",
          "text": [
            "\n"
          ]
        }
      ],
      "source": [
        "\n",
        "project.upload_dataset(df, id_column=\"id\", data_column=\"text\", label_column=\"label\")\n",
        "\n"
      ]
    },
    {
      "attachments": {},
      "cell_type": "markdown",
      "metadata": {
        "id": "22toUe1iX_Se"
      },
      "source": [
        "# Step 5 - Upload the AI System Outputs\n"
      ]
    },
    {
      "cell_type": "code",
      "execution_count": 14,
      "metadata": {
        "id": "Rj6kOAkAXzBN"
      },
      "outputs": [],
      "source": [
        "# For demonstration, let's assume we have system predictions\n",
        "df_system = pd.DataFrame(\n",
        "    {\n",
        "        \"output\": [\"positive\", \"negative\", \"negative\", \"positive\", \"negative\", \"positive\", \"negative\", \"neutral\", \"positive\", \"negative\"],\n",
        "    }\n",
        ")\n",
        "\n",
        "# Create an id column to match the base dataset\n",
        "df_system[\"id\"] = df_system.index + 1\n",
        "\n",
        "# Measure accuracy for each instance, which is averaged by the ZenoMetric above\n",
        "df_system[\"correct\"] = (df_system[\"output\"] == df[\"label\"]).astype(int)\n",
        "\n"
      ]
    },
    {
      "attachments": {},
      "cell_type": "markdown",
      "metadata": {
        "id": "wemoUlruYE2p"
      },
      "source": [
        "# Step 6 - Upload the system outputs\n"
      ]
    },
    {
      "cell_type": "code",
      "execution_count": 15,
      "metadata": {
        "id": "VkYtYnuBYEAR"
      },
      "outputs": [
        {
          "name": "stderr",
          "output_type": "stream",
          "text": [
            "/Users/shauryasingh/Documents/CMU/AI Engineering/cmu-mlip-zeno-lab/.conda/lib/python3.10/site-packages/zeno_client/util.py:25: FutureWarning: Setting an item of incompatible dtype is deprecated and will raise in a future error of pandas. Value '['1' '2' '3' '4' '5' '6' '7' '8' '9' '10']' has dtype incompatible with int64, please explicitly cast to a compatible dtype first.\n",
            "  df.loc[:, id_column] = df[id_column].astype(str)\n",
            "100%|██████████| 1/1 [00:00<00:00,  2.39it/s]"
          ]
        },
        {
          "name": "stdout",
          "output_type": "stream",
          "text": [
            "Successfully uploaded system\n"
          ]
        },
        {
          "name": "stderr",
          "output_type": "stream",
          "text": [
            "\n"
          ]
        }
      ],
      "source": [
        "project.upload_system(df_system, name=\"System A\", id_column=\"id\", output_column=\"output\")"
      ]
    },
    {
      "cell_type": "code",
      "execution_count": null,
      "metadata": {},
      "outputs": [],
      "source": []
    }
  ],
  "metadata": {
    "colab": {
      "provenance": []
    },
    "kernelspec": {
      "display_name": "Python 3",
      "name": "python3"
    },
    "language_info": {
      "codemirror_mode": {
        "name": "ipython",
        "version": 3
      },
      "file_extension": ".py",
      "mimetype": "text/x-python",
      "name": "python",
      "nbconvert_exporter": "python",
      "pygments_lexer": "ipython3",
      "version": "3.10.13"
    }
  },
  "nbformat": 4,
  "nbformat_minor": 0
}
