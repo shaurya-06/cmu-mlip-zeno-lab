{
  "cells": [
    {
      "attachments": {},
      "cell_type": "markdown",
      "metadata": {
        "id": "XHtaPysVSNZN"
      },
      "source": [
        "# Step 1 - Install the required dependencies and make sure the python version is 3.10 and above"
      ]
    },
    {
      "cell_type": "code",
      "execution_count": null,
      "metadata": {
        "id": "APS6D3eiSAR_"
      },
      "outputs": [],
      "source": [
        "!pip install zeno-client\n",
        "!pip install --upgrade pip\n",
        "!pip install --upgrade bottleneck\n",
        "!pip install langdetect\n"
      ]
    },
    {
      "cell_type": "code",
      "execution_count": 2,
      "metadata": {
        "colab": {
          "base_uri": "https://localhost:8080/"
        },
        "id": "CRrMiMnLV9xY",
        "outputId": "5193e819-f2cb-4032-99df-ced1ea7b4191"
      },
      "outputs": [
        {
          "name": "stdout",
          "output_type": "stream",
          "text": [
            "Python 3.10.13\n"
          ]
        }
      ],
      "source": [
        "!python --version"
      ]
    },
    {
      "cell_type": "code",
      "execution_count": 3,
      "metadata": {
        "id": "wHMa3ItBSSdu"
      },
      "outputs": [
        {
          "name": "stderr",
          "output_type": "stream",
          "text": [
            "/Users/shauryasingh/Documents/CMU/AI Engineering/cmu-mlip-zeno-lab/.conda/lib/python3.10/site-packages/tqdm/auto.py:21: TqdmWarning: IProgress not found. Please update jupyter and ipywidgets. See https://ipywidgets.readthedocs.io/en/stable/user_install.html\n",
            "  from .autonotebook import tqdm as notebook_tqdm\n"
          ]
        }
      ],
      "source": [
        "from zeno_client import ZenoClient, ZenoMetric\n",
        "import pandas as pd\n",
        "\n",
        "# Initialize a client with our API key.\n",
        "client = ZenoClient(\"<Enter API key>\")\n"
      ]
    },
    {
      "attachments": {},
      "cell_type": "markdown",
      "metadata": {
        "id": "bwOPnZ1vSfWt"
      },
      "source": [
        "# Step 2 - Create a project"
      ]
    },
    {
      "cell_type": "code",
      "execution_count": 11,
      "metadata": {
        "id": "9UdBAYUsSXBH"
      },
      "outputs": [
        {
          "name": "stdout",
          "output_type": "stream",
          "text": [
            "Successfully updated project.\n",
            "Access your project at  https://hub.zenoml.com/project/bacf1e34-5621-4f65-8161-c37df68578ff/Biased%20Movies%20Analysis\n"
          ]
        }
      ],
      "source": [
        "project = client.create_project(\n",
        "    name=\"Biased Movies Analysis\",\n",
        "    view=\"text-classification\",\n",
        "    metrics=[\n",
        "        ZenoMetric(name=\"accuracy\", type=\"mean\", columns=[\"correct\"]),\n",
        "        #Uncomment the following line after implementing the function\n",
        "        ZenoMetric(name=\"avg length ratio\", type=\"mean\", columns=[\"avg_length_ratio\"]),\n",
        "    ]\n",
        ")"
      ]
    },
    {
      "attachments": {},
      "cell_type": "markdown",
      "metadata": {
        "id": "c-lh1yUhXjsd"
      },
      "source": [
        "# Step 3 - Create dataset"
      ]
    },
    {
      "cell_type": "code",
      "execution_count": 12,
      "metadata": {
        "id": "s4x_f9QqSjHT"
      },
      "outputs": [],
      "source": [
        "import pandas as pd\n",
        "from langdetect import detect\n",
        "from collections import Counter\n",
        "import random\n",
        "\n",
        "# Sample language detection function\n",
        "def detect_language(text):\n",
        "    try:\n",
        "        return detect(text)\n",
        "    except:\n",
        "        return \"Unknown\"\n",
        "\n",
        "# Create a Pandas DataFrame for the biased dataset of movies\n",
        "df = pd.DataFrame(\n",
        "    {\n",
        "        \"id\": range(1, 11),  # Using only 10 instances for demonstration\n",
        "        \"text\": [\n",
        "            \"I love this movie!\",\n",
        "            \"¡Odio esta película!\",\n",
        "            \"Ce film est ok.\",\n",
        "            \"The acting was great!\",\n",
        "            \"The plot was confusing.\",\n",
        "            \"I really enjoyed it!\",\n",
        "            \"Worst movie ever!\",\n",
        "            \"Not bad, but could be better.\",\n",
        "            \"A masterpiece!\",\n",
        "            \"I didn't like it.\",\n",
        "        ],\n",
        "        \"genre\": [\"action\", \"drama\", \"comedy\", \"action\", \"drama\", \"action\", \"drama\", \"comedy\", \"action\", \"drama\"],\n",
        "        \"year\": [random.choice([2020, 2021, 2022]) for _ in range(10)],  # Randomly select year\n",
        "        \"label\": [\"positive\", \"negative\", \"neutral\", \"positive\", \"negative\", \"positive\", \"negative\", \"neutral\", \"positive\", \"negative\"],\n",
        "    }\n",
        ")\n",
        "\n",
        "# Introduce biases in genre\n",
        "biased_genre = [\"action\", \"action\", \"drama\", \"drama\", \"comedy\", \"comedy\", \"comedy\", \"comedy\", \"drama\", \"drama\"]\n",
        "df[\"biased_genre\"] = biased_genre\n",
        "\n",
        "# Introduce biases in year\n",
        "biased_year = [2020, 2020, 2020, 2021, 2021, 2021, 2022, 2022, 2022, 2022]\n",
        "df[\"biased_year\"] = biased_year\n",
        "\n",
        "# Add language detection to create a new column\n",
        "df[\"detected_language\"] = df[\"text\"].apply(detect_language)\n",
        "\n",
        "# Add additional columns for analysis\n",
        "df[\"input_length\"] = df[\"text\"].str.len()\n",
        "\n",
        "#Uncomment the following line\n",
        "df[\"avg_length_ratio\"] = df[\"input_length\"] / (df[\"input_length\"].mean())\n",
        "\n"
      ]
    },
    {
      "attachments": {},
      "cell_type": "markdown",
      "metadata": {
        "id": "9MRmyxrQX0-v"
      },
      "source": [
        "# Step 4 - Upload the Base Dataset\n"
      ]
    },
    {
      "cell_type": "code",
      "execution_count": 13,
      "metadata": {
        "id": "gX5H6b9mXxyW"
      },
      "outputs": [
        {
          "name": "stderr",
          "output_type": "stream",
          "text": [
            "/Users/shauryasingh/Documents/CMU/AI Engineering/cmu-mlip-zeno-lab/.conda/lib/python3.10/site-packages/zeno_client/util.py:25: FutureWarning: Setting an item of incompatible dtype is deprecated and will raise in a future error of pandas. Value '['1' '2' '3' '4' '5' '6' '7' '8' '9' '10']' has dtype incompatible with int64, please explicitly cast to a compatible dtype first.\n",
            "  df.loc[:, id_column] = df[id_column].astype(str)\n",
            "100%|██████████| 1/1 [00:00<00:00,  2.22it/s]"
          ]
        },
        {
          "name": "stdout",
          "output_type": "stream",
          "text": [
            "Successfully uploaded data\n"
          ]
        },
        {
          "name": "stderr",
          "output_type": "stream",
          "text": [
            "\n"
          ]
        }
      ],
      "source": [
        "\n",
        "project.upload_dataset(df, id_column=\"id\", data_column=\"text\", label_column=\"label\")\n",
        "\n"
      ]
    },
    {
      "attachments": {},
      "cell_type": "markdown",
      "metadata": {
        "id": "22toUe1iX_Se"
      },
      "source": [
        "# Step 5 - Upload the AI System Outputs\n"
      ]
    },
    {
      "cell_type": "code",
      "execution_count": 14,
      "metadata": {
        "id": "Rj6kOAkAXzBN"
      },
      "outputs": [],
      "source": [
        "# For demonstration, let's assume we have system predictions\n",
        "df_system = pd.DataFrame(\n",
        "    {\n",
        "        \"output\": [\"positive\", \"negative\", \"negative\", \"positive\", \"negative\", \"positive\", \"negative\", \"neutral\", \"positive\", \"negative\"],\n",
        "    }\n",
        ")\n",
        "\n",
        "# Create an id column to match the base dataset\n",
        "df_system[\"id\"] = df_system.index + 1\n",
        "\n",
        "# Measure accuracy for each instance, which is averaged by the ZenoMetric above\n",
        "df_system[\"correct\"] = (df_system[\"output\"] == df[\"label\"]).astype(int)\n",
        "\n"
      ]
    },
    {
      "attachments": {},
      "cell_type": "markdown",
      "metadata": {
        "id": "wemoUlruYE2p"
      },
      "source": [
        "# Step 6 - Upload the system outputs\n"
      ]
    },
    {
      "cell_type": "code",
      "execution_count": 15,
      "metadata": {
        "id": "VkYtYnuBYEAR"
      },
      "outputs": [
        {
          "name": "stderr",
          "output_type": "stream",
          "text": [
            "/Users/shauryasingh/Documents/CMU/AI Engineering/cmu-mlip-zeno-lab/.conda/lib/python3.10/site-packages/zeno_client/util.py:25: FutureWarning: Setting an item of incompatible dtype is deprecated and will raise in a future error of pandas. Value '['1' '2' '3' '4' '5' '6' '7' '8' '9' '10']' has dtype incompatible with int64, please explicitly cast to a compatible dtype first.\n",
            "  df.loc[:, id_column] = df[id_column].astype(str)\n",
            "100%|██████████| 1/1 [00:00<00:00,  2.39it/s]"
          ]
        },
        {
          "name": "stdout",
          "output_type": "stream",
          "text": [
            "Successfully uploaded system\n"
          ]
        },
        {
          "name": "stderr",
          "output_type": "stream",
          "text": [
            "\n"
          ]
        }
      ],
      "source": [
        "project.upload_system(df_system, name=\"System A\", id_column=\"id\", output_column=\"output\")"
      ]
    },
    {
      "cell_type": "code",
      "execution_count": null,
      "metadata": {},
      "outputs": [],
      "source": []
    }
  ],
  "metadata": {
    "colab": {
      "provenance": []
    },
    "kernelspec": {
      "display_name": "Python 3",
      "name": "python3"
    },
    "language_info": {
      "codemirror_mode": {
        "name": "ipython",
        "version": 3
      },
      "file_extension": ".py",
      "mimetype": "text/x-python",
      "name": "python",
      "nbconvert_exporter": "python",
      "pygments_lexer": "ipython3",
      "version": "3.10.13"
    }
  },
  "nbformat": 4,
  "nbformat_minor": 0
}
